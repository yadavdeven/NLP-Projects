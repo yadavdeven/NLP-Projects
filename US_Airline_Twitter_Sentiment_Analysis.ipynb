{
  "nbformat": 4,
  "nbformat_minor": 0,
  "metadata": {
    "colab": {
      "name": "US_Airline_Twitter_Sentiment_Analysis.ipynb",
      "provenance": []
    },
    "kernelspec": {
      "display_name": "Python 3",
      "name": "python3"
    },
    "language_info": {
      "name": "python"
    }
  },
  "cells": [
    {
      "cell_type": "code",
      "metadata": {
        "id": "y9ci_obhE_Vj"
      },
      "source": [
        "## imports\n",
        "\n",
        "import pandas as pd\n",
        "import numpy as np\n",
        "import matplotlib.pyplot as plt\n",
        "import seaborn as sns\n",
        "%matplotlib inline"
      ],
      "execution_count": 1,
      "outputs": []
    },
    {
      "cell_type": "code",
      "metadata": {
        "id": "Tesets2yF5Ua"
      },
      "source": [
        "## importing the data:\n",
        "\n",
        "df = pd.read_csv(\"/content/drive/MyDrive/US airline twitter sentiment/Tweets.csv\")"
      ],
      "execution_count": 2,
      "outputs": []
    },
    {
      "cell_type": "code",
      "metadata": {
        "colab": {
          "base_uri": "https://localhost:8080/",
          "height": 448
        },
        "id": "LCnhDoOxGMqq",
        "outputId": "e239e89d-f9a8-4f55-cf43-b6864a37e889"
      },
      "source": [
        "df.head()"
      ],
      "execution_count": 3,
      "outputs": [
        {
          "output_type": "execute_result",
          "data": {
            "text/html": [
              "<div>\n",
              "<style scoped>\n",
              "    .dataframe tbody tr th:only-of-type {\n",
              "        vertical-align: middle;\n",
              "    }\n",
              "\n",
              "    .dataframe tbody tr th {\n",
              "        vertical-align: top;\n",
              "    }\n",
              "\n",
              "    .dataframe thead th {\n",
              "        text-align: right;\n",
              "    }\n",
              "</style>\n",
              "<table border=\"1\" class=\"dataframe\">\n",
              "  <thead>\n",
              "    <tr style=\"text-align: right;\">\n",
              "      <th></th>\n",
              "      <th>tweet_id</th>\n",
              "      <th>airline_sentiment</th>\n",
              "      <th>airline_sentiment_confidence</th>\n",
              "      <th>negativereason</th>\n",
              "      <th>negativereason_confidence</th>\n",
              "      <th>airline</th>\n",
              "      <th>airline_sentiment_gold</th>\n",
              "      <th>name</th>\n",
              "      <th>negativereason_gold</th>\n",
              "      <th>retweet_count</th>\n",
              "      <th>text</th>\n",
              "      <th>tweet_coord</th>\n",
              "      <th>tweet_created</th>\n",
              "      <th>tweet_location</th>\n",
              "      <th>user_timezone</th>\n",
              "    </tr>\n",
              "  </thead>\n",
              "  <tbody>\n",
              "    <tr>\n",
              "      <th>0</th>\n",
              "      <td>570306133677760513</td>\n",
              "      <td>neutral</td>\n",
              "      <td>1.0000</td>\n",
              "      <td>NaN</td>\n",
              "      <td>NaN</td>\n",
              "      <td>Virgin America</td>\n",
              "      <td>NaN</td>\n",
              "      <td>cairdin</td>\n",
              "      <td>NaN</td>\n",
              "      <td>0</td>\n",
              "      <td>@VirginAmerica What @dhepburn said.</td>\n",
              "      <td>NaN</td>\n",
              "      <td>2015-02-24 11:35:52 -0800</td>\n",
              "      <td>NaN</td>\n",
              "      <td>Eastern Time (US &amp; Canada)</td>\n",
              "    </tr>\n",
              "    <tr>\n",
              "      <th>1</th>\n",
              "      <td>570301130888122368</td>\n",
              "      <td>positive</td>\n",
              "      <td>0.3486</td>\n",
              "      <td>NaN</td>\n",
              "      <td>0.0000</td>\n",
              "      <td>Virgin America</td>\n",
              "      <td>NaN</td>\n",
              "      <td>jnardino</td>\n",
              "      <td>NaN</td>\n",
              "      <td>0</td>\n",
              "      <td>@VirginAmerica plus you've added commercials t...</td>\n",
              "      <td>NaN</td>\n",
              "      <td>2015-02-24 11:15:59 -0800</td>\n",
              "      <td>NaN</td>\n",
              "      <td>Pacific Time (US &amp; Canada)</td>\n",
              "    </tr>\n",
              "    <tr>\n",
              "      <th>2</th>\n",
              "      <td>570301083672813571</td>\n",
              "      <td>neutral</td>\n",
              "      <td>0.6837</td>\n",
              "      <td>NaN</td>\n",
              "      <td>NaN</td>\n",
              "      <td>Virgin America</td>\n",
              "      <td>NaN</td>\n",
              "      <td>yvonnalynn</td>\n",
              "      <td>NaN</td>\n",
              "      <td>0</td>\n",
              "      <td>@VirginAmerica I didn't today... Must mean I n...</td>\n",
              "      <td>NaN</td>\n",
              "      <td>2015-02-24 11:15:48 -0800</td>\n",
              "      <td>Lets Play</td>\n",
              "      <td>Central Time (US &amp; Canada)</td>\n",
              "    </tr>\n",
              "    <tr>\n",
              "      <th>3</th>\n",
              "      <td>570301031407624196</td>\n",
              "      <td>negative</td>\n",
              "      <td>1.0000</td>\n",
              "      <td>Bad Flight</td>\n",
              "      <td>0.7033</td>\n",
              "      <td>Virgin America</td>\n",
              "      <td>NaN</td>\n",
              "      <td>jnardino</td>\n",
              "      <td>NaN</td>\n",
              "      <td>0</td>\n",
              "      <td>@VirginAmerica it's really aggressive to blast...</td>\n",
              "      <td>NaN</td>\n",
              "      <td>2015-02-24 11:15:36 -0800</td>\n",
              "      <td>NaN</td>\n",
              "      <td>Pacific Time (US &amp; Canada)</td>\n",
              "    </tr>\n",
              "    <tr>\n",
              "      <th>4</th>\n",
              "      <td>570300817074462722</td>\n",
              "      <td>negative</td>\n",
              "      <td>1.0000</td>\n",
              "      <td>Can't Tell</td>\n",
              "      <td>1.0000</td>\n",
              "      <td>Virgin America</td>\n",
              "      <td>NaN</td>\n",
              "      <td>jnardino</td>\n",
              "      <td>NaN</td>\n",
              "      <td>0</td>\n",
              "      <td>@VirginAmerica and it's a really big bad thing...</td>\n",
              "      <td>NaN</td>\n",
              "      <td>2015-02-24 11:14:45 -0800</td>\n",
              "      <td>NaN</td>\n",
              "      <td>Pacific Time (US &amp; Canada)</td>\n",
              "    </tr>\n",
              "  </tbody>\n",
              "</table>\n",
              "</div>"
            ],
            "text/plain": [
              "             tweet_id  ...               user_timezone\n",
              "0  570306133677760513  ...  Eastern Time (US & Canada)\n",
              "1  570301130888122368  ...  Pacific Time (US & Canada)\n",
              "2  570301083672813571  ...  Central Time (US & Canada)\n",
              "3  570301031407624196  ...  Pacific Time (US & Canada)\n",
              "4  570300817074462722  ...  Pacific Time (US & Canada)\n",
              "\n",
              "[5 rows x 15 columns]"
            ]
          },
          "metadata": {},
          "execution_count": 3
        }
      ]
    },
    {
      "cell_type": "code",
      "metadata": {
        "colab": {
          "base_uri": "https://localhost:8080/"
        },
        "id": "nppDhg9mG1o8",
        "outputId": "f75b8edb-4fab-49d0-b822-4ca4b12dec53"
      },
      "source": [
        "df.columns"
      ],
      "execution_count": 4,
      "outputs": [
        {
          "output_type": "execute_result",
          "data": {
            "text/plain": [
              "Index(['tweet_id', 'airline_sentiment', 'airline_sentiment_confidence',\n",
              "       'negativereason', 'negativereason_confidence', 'airline',\n",
              "       'airline_sentiment_gold', 'name', 'negativereason_gold',\n",
              "       'retweet_count', 'text', 'tweet_coord', 'tweet_created',\n",
              "       'tweet_location', 'user_timezone'],\n",
              "      dtype='object')"
            ]
          },
          "metadata": {},
          "execution_count": 4
        }
      ]
    },
    {
      "cell_type": "code",
      "metadata": {
        "id": "hVKqekp-GOly"
      },
      "source": [
        "## Setting up X and Y:\n",
        "\n",
        "X = df[\"text\"]\n",
        "Y = df[\"airline_sentiment\"]"
      ],
      "execution_count": 5,
      "outputs": []
    },
    {
      "cell_type": "code",
      "metadata": {
        "colab": {
          "base_uri": "https://localhost:8080/"
        },
        "id": "cO66AjQbG-P1",
        "outputId": "1a70f611-6526-48c0-ba07-3ad6b21858a9"
      },
      "source": [
        "X.shape, Y.shape"
      ],
      "execution_count": 6,
      "outputs": [
        {
          "output_type": "execute_result",
          "data": {
            "text/plain": [
              "((14640,), (14640,))"
            ]
          },
          "metadata": {},
          "execution_count": 6
        }
      ]
    },
    {
      "cell_type": "code",
      "metadata": {
        "colab": {
          "base_uri": "https://localhost:8080/"
        },
        "id": "tzeOkB0YHDcB",
        "outputId": "f13c89bf-238d-47cf-a10a-d52a477b5256"
      },
      "source": [
        "Y.value_counts()"
      ],
      "execution_count": 7,
      "outputs": [
        {
          "output_type": "execute_result",
          "data": {
            "text/plain": [
              "negative    9178\n",
              "neutral     3099\n",
              "positive    2363\n",
              "Name: airline_sentiment, dtype: int64"
            ]
          },
          "metadata": {},
          "execution_count": 7
        }
      ]
    },
    {
      "cell_type": "code",
      "metadata": {
        "colab": {
          "base_uri": "https://localhost:8080/"
        },
        "id": "1unfQrwfHF4_",
        "outputId": "b3c678a5-c92a-465d-e3d8-043b72e06e84"
      },
      "source": [
        "X.head()"
      ],
      "execution_count": 8,
      "outputs": [
        {
          "output_type": "execute_result",
          "data": {
            "text/plain": [
              "0                  @VirginAmerica What @dhepburn said.\n",
              "1    @VirginAmerica plus you've added commercials t...\n",
              "2    @VirginAmerica I didn't today... Must mean I n...\n",
              "3    @VirginAmerica it's really aggressive to blast...\n",
              "4    @VirginAmerica and it's a really big bad thing...\n",
              "Name: text, dtype: object"
            ]
          },
          "metadata": {},
          "execution_count": 8
        }
      ]
    },
    {
      "cell_type": "code",
      "metadata": {
        "colab": {
          "base_uri": "https://localhost:8080/"
        },
        "id": "4pTO3SzMHXOX",
        "outputId": "2dce58c5-35a1-488e-ba1e-f0acc2bc172e"
      },
      "source": [
        "pd.set_option(\"display.max_colwidth\",120)\n",
        "X.head(10)"
      ],
      "execution_count": 9,
      "outputs": [
        {
          "output_type": "execute_result",
          "data": {
            "text/plain": [
              "0                                                                                        @VirginAmerica What @dhepburn said.\n",
              "1                                                   @VirginAmerica plus you've added commercials to the experience... tacky.\n",
              "2                                                    @VirginAmerica I didn't today... Must mean I need to take another trip!\n",
              "3    @VirginAmerica it's really aggressive to blast obnoxious \"entertainment\" in your guests' faces &amp; they have littl...\n",
              "4                                                                    @VirginAmerica and it's a really big bad thing about it\n",
              "5    @VirginAmerica seriously would pay $30 a flight for seats that didn't have this playing.\\nit's really the only bad t...\n",
              "6                                            @VirginAmerica yes, nearly every time I fly VX this “ear worm” won’t go away :)\n",
              "7               @VirginAmerica Really missed a prime opportunity for Men Without Hats parody, there. https://t.co/mWpG7grEZP\n",
              "8                                                                            @virginamerica Well, I didn't…but NOW I DO! :-D\n",
              "9                                           @VirginAmerica it was amazing, and arrived an hour early. You're too good to me.\n",
              "Name: text, dtype: object"
            ]
          },
          "metadata": {},
          "execution_count": 9
        }
      ]
    },
    {
      "cell_type": "code",
      "metadata": {
        "id": "tK2CFV9LHxwJ"
      },
      "source": [
        "## Classifying tweets without balancing our dataset:"
      ],
      "execution_count": 10,
      "outputs": []
    },
    {
      "cell_type": "code",
      "metadata": {
        "id": "yxYmZNdxKEC3"
      },
      "source": [
        "import regex as re"
      ],
      "execution_count": 11,
      "outputs": []
    },
    {
      "cell_type": "code",
      "metadata": {
        "colab": {
          "base_uri": "https://localhost:8080/",
          "height": 35
        },
        "id": "wJx8WK9RIXrL",
        "outputId": "bea4e639-8089-45fe-ed07-6900b234b046"
      },
      "source": [
        "text = \"text me at yadav.Deven-007@out.look.com\"\n",
        "re.sub(r'([a-zA-Z0-9._-]+@[a-zA-Z0-9.]+\\.[a-zA-Z0-9]+)',\"\",text)"
      ],
      "execution_count": 12,
      "outputs": [
        {
          "output_type": "execute_result",
          "data": {
            "application/vnd.google.colaboratory.intrinsic+json": {
              "type": "string"
            },
            "text/plain": [
              "'text me at '"
            ]
          },
          "metadata": {},
          "execution_count": 12
        }
      ]
    },
    {
      "cell_type": "code",
      "metadata": {
        "id": "GFgDP5blSjN7"
      },
      "source": [
        "## removing emails:\n",
        "\n",
        "X = X.apply(lambda x: re.sub(r'([a-zA-Z0-9._-]+@[a-zA-Z0-9._-]+\\.[a-zA-Z0-9]+)',\"\",x))"
      ],
      "execution_count": 13,
      "outputs": []
    },
    {
      "cell_type": "code",
      "metadata": {
        "id": "cUTb-mQLW-07"
      },
      "source": [
        "## removing urls from the text:\n",
        "\n",
        "X = X.apply(lambda x: re.sub(r'(http|https|ftp|ssh)://([\\w_-]+(?:(?:\\.[\\w_-]+)+))([\\w.,@?^=%&:/~+#-]*[\\w@?^=%&/~+#-])?', '' , x))"
      ],
      "execution_count": 14,
      "outputs": []
    },
    {
      "cell_type": "code",
      "metadata": {
        "id": "TuaHjnGcXmHK"
      },
      "source": [
        "X = X.apply(lambda x: re.sub(r'(@[a-zA-Z0-9._-]+)',\"\",x))"
      ],
      "execution_count": 15,
      "outputs": []
    },
    {
      "cell_type": "code",
      "metadata": {
        "colab": {
          "base_uri": "https://localhost:8080/"
        },
        "id": "hF3Fn9NiY2AW",
        "outputId": "e005a3bf-8e54-41d7-c943-a421c1f84ded"
      },
      "source": [
        "X.head()"
      ],
      "execution_count": 16,
      "outputs": [
        {
          "output_type": "execute_result",
          "data": {
            "text/plain": [
              "0                                                                                                         What  said.\n",
              "1                                                           plus you've added commercials to the experience... tacky.\n",
              "2                                                            I didn't today... Must mean I need to take another trip!\n",
              "3     it's really aggressive to blast obnoxious \"entertainment\" in your guests' faces &amp; they have little recourse\n",
              "4                                                                            and it's a really big bad thing about it\n",
              "Name: text, dtype: object"
            ]
          },
          "metadata": {},
          "execution_count": 16
        }
      ]
    },
    {
      "cell_type": "code",
      "metadata": {
        "id": "oAqlsRo4Y3Yu"
      },
      "source": [
        "## removing rt:\n",
        "\n",
        "X = X.apply(lambda x: re.sub(r'\\brt\\b', '', x).strip())"
      ],
      "execution_count": 17,
      "outputs": []
    },
    {
      "cell_type": "code",
      "metadata": {
        "id": "QT56LamiZU7t"
      },
      "source": [
        "X = X.apply(lambda x : str(x).lower().replace(\"\\\\\",\" \").replace(\"_\",\" \").replace(\".\",\" \"))"
      ],
      "execution_count": 18,
      "outputs": []
    },
    {
      "cell_type": "code",
      "metadata": {
        "id": "6vJvI4dPZ3hQ"
      },
      "source": [
        "## removing tagging of airline with @:\n",
        "\n",
        "X = X.apply(lambda x : re.sub(r'(@+[a-z0-9._-]+)',\"\", x))"
      ],
      "execution_count": 19,
      "outputs": []
    },
    {
      "cell_type": "code",
      "metadata": {
        "id": "s0wMj7CPZ71R"
      },
      "source": [
        "## removing hashtag:\n",
        "\n",
        "X = X.apply(lambda x : re.sub(r'(#+[a-z0-9+._-]+)',\"\", x))"
      ],
      "execution_count": 20,
      "outputs": []
    },
    {
      "cell_type": "code",
      "metadata": {
        "id": "AHjgMj3daD95"
      },
      "source": [
        "## removing accented characters:\n",
        "\n",
        "import unicodedata\n",
        "\n",
        "def remove_accented_chars(x):\n",
        "    x = unicodedata.normalize('NFKD', x).encode('ascii', 'ignore').decode('utf-8', 'ignore')\n",
        "    return x"
      ],
      "execution_count": 21,
      "outputs": []
    },
    {
      "cell_type": "code",
      "metadata": {
        "id": "rWNPsYIsaHEN"
      },
      "source": [
        "X = X.apply(lambda x : remove_accented_chars(x))"
      ],
      "execution_count": 22,
      "outputs": []
    },
    {
      "cell_type": "code",
      "metadata": {
        "id": "X9P4fG-NaJSI"
      },
      "source": [
        "## expanding words written in short forms:\n",
        "\n",
        "## this list of words on which expansion would be applied,\n",
        "\n",
        "contractions = { \n",
        "\"ain't\": \"am not\",\n",
        "\"aren't\": \"are not\",\n",
        "\"can't\": \"cannot\",\n",
        "\"can't've\": \"cannot have\",\n",
        "\"'cause\": \"because\",\n",
        "\"could've\": \"could have\",\n",
        "\"couldn't\": \"could not\",\n",
        "\"couldn't've\": \"could not have\",\n",
        "\"didn't\": \"did not\",\n",
        "\"doesn't\": \"does not\",\n",
        "\"don't\": \"do not\",\n",
        "\"hadn't\": \"had not\",\n",
        "\"hadn't've\": \"had not have\",\n",
        "\"hasn't\": \"has not\",\n",
        "\"haven't\": \"have not\",\n",
        "\"he'd\": \"he would\",\n",
        "\"he'd've\": \"he would have\",\n",
        "\"he'll\": \"he will\",\n",
        "\"he'll've\": \"he will have\",\n",
        "\"he's\": \"he is\",\n",
        "\"how'd\": \"how did\",\n",
        "\"how'd'y\": \"how do you\",\n",
        "\"how'll\": \"how will\",\n",
        "\"how's\": \"how does\",\n",
        "\"i'd\": \"i would\",\n",
        "\"i'd've\": \"i would have\",\n",
        "\"i'll\": \"i will\",\n",
        "\"i'll've\": \"i will have\",\n",
        "\"i'm\": \"i am\",\n",
        "\"i've\": \"i have\",\n",
        "\"isn't\": \"is not\",\n",
        "\"it'd\": \"it would\",\n",
        "\"it'd've\": \"it would have\",\n",
        "\"it'll\": \"it will\",\n",
        "\"it'll've\": \"it will have\",\n",
        "\"it's\": \"it is\",\n",
        "\"let's\": \"let us\",\n",
        "\"ma'am\": \"madam\",\n",
        "\"mayn't\": \"may not\",\n",
        "\"might've\": \"might have\",\n",
        "\"mightn't\": \"might not\",\n",
        "\"mightn't've\": \"might not have\",\n",
        "\"must've\": \"must have\",\n",
        "\"mustn't\": \"must not\",\n",
        "\"mustn't've\": \"must not have\",\n",
        "\"needn't\": \"need not\",\n",
        "\"needn't've\": \"need not have\",\n",
        "\"o'clock\": \"of the clock\",\n",
        "\"oughtn't\": \"ought not\",\n",
        "\"oughtn't've\": \"ought not have\",\n",
        "\"shan't\": \"shall not\",\n",
        "\"sha'n't\": \"shall not\",\n",
        "\"shan't've\": \"shall not have\",\n",
        "\"she'd\": \"she would\",\n",
        "\"she'd've\": \"she would have\",\n",
        "\"she'll\": \"she will\",\n",
        "\"she'll've\": \"she will have\",\n",
        "\"she's\": \"she is\",\n",
        "\"should've\": \"should have\",\n",
        "\"shouldn't\": \"should not\",\n",
        "\"shouldn't've\": \"should not have\",\n",
        "\"so've\": \"so have\",\n",
        "\"so's\": \"so is\",\n",
        "\"that'd\": \"that would\",\n",
        "\"that'd've\": \"that would have\",\n",
        "\"that's\": \"that is\",\n",
        "\"there'd\": \"there would\",\n",
        "\"there'd've\": \"there would have\",\n",
        "\"there's\": \"there is\",\n",
        "\"they'd\": \"they would\",\n",
        "\"they'd've\": \"they would have\",\n",
        "\"they'll\": \"they will\",\n",
        "\"they'll've\": \"they will have\",\n",
        "\"they're\": \"they are\",\n",
        "\"they've\": \"they have\",\n",
        "\"to've\": \"to have\",\n",
        "\"wasn't\": \"was not\",\n",
        "\" u \": \" you \",\n",
        "\" ur \": \" your \",\n",
        "\" n \": \" and \",\n",
        "\"won't\": \"would not\",\n",
        "'dis': 'this',\n",
        "'bak': 'back',\n",
        "'brng': 'bring',\n",
        "\"'ve\": \" have\"}"
      ],
      "execution_count": 23,
      "outputs": []
    },
    {
      "cell_type": "code",
      "metadata": {
        "id": "nusjsA4oaNQU"
      },
      "source": [
        "## function for expansion:\n",
        "\n",
        "def contraction_expansion(x):\n",
        "  if type(x) is str:\n",
        "    for key in contractions:\n",
        "      value = contractions[key]\n",
        "      x = x.replace(key,value)\n",
        "    return x\n",
        "\n",
        "  else:\n",
        "    return x\n",
        "\n",
        "X = X.apply(lambda x : contraction_expansion(x))"
      ],
      "execution_count": 24,
      "outputs": []
    },
    {
      "cell_type": "code",
      "metadata": {
        "id": "0x0mKzZsaRUH"
      },
      "source": [
        "## removing special characters:\n",
        "\n",
        "X = X.apply(lambda x : re.sub('[^A-Za-z]', ' ',x))"
      ],
      "execution_count": 25,
      "outputs": []
    },
    {
      "cell_type": "code",
      "metadata": {
        "id": "c0h4aIxgaVDB",
        "colab": {
          "base_uri": "https://localhost:8080/"
        },
        "outputId": "0df340aa-5269-4992-fc39-275ca54d0e5a"
      },
      "source": [
        "X.head()"
      ],
      "execution_count": 28,
      "outputs": [
        {
          "output_type": "execute_result",
          "data": {
            "text/plain": [
              "0                                                                                                         what  said \n",
              "1                                                         plus you have added commercials to the experience    tacky \n",
              "2                                                           i did not today    must mean i need to take another trip \n",
              "3    it is really aggressive to blast obnoxious  entertainment  in your guests  faces  amp  they have little recourse\n",
              "4                                                                           and it is a really big bad thing about it\n",
              "Name: text, dtype: object"
            ]
          },
          "metadata": {},
          "execution_count": 28
        }
      ]
    },
    {
      "cell_type": "code",
      "metadata": {
        "id": "L7UvZlIxaWh7"
      },
      "source": [
        "## removing extra spaces if present:\n",
        "\n",
        "X = X.apply(lambda x: ' '.join(x.split()))"
      ],
      "execution_count": 29,
      "outputs": []
    },
    {
      "cell_type": "code",
      "metadata": {
        "id": "c22xu1xMbZnu",
        "colab": {
          "base_uri": "https://localhost:8080/"
        },
        "outputId": "5333e783-16e7-464a-cf58-fb9d3ba3e07b"
      },
      "source": [
        "X.head()"
      ],
      "execution_count": 30,
      "outputs": [
        {
          "output_type": "execute_result",
          "data": {
            "text/plain": [
              "0                                                                                                      what said\n",
              "1                                                        plus you have added commercials to the experience tacky\n",
              "2                                                          i did not today must mean i need to take another trip\n",
              "3    it is really aggressive to blast obnoxious entertainment in your guests faces amp they have little recourse\n",
              "4                                                                      and it is a really big bad thing about it\n",
              "Name: text, dtype: object"
            ]
          },
          "metadata": {},
          "execution_count": 30
        }
      ]
    },
    {
      "cell_type": "code",
      "metadata": {
        "id": "k2eCbGLu9IDN",
        "colab": {
          "base_uri": "https://localhost:8080/"
        },
        "outputId": "2d7bfd41-76f1-4f54-8acd-f1838441c97b"
      },
      "source": [
        "type(X), type(Y)"
      ],
      "execution_count": 31,
      "outputs": [
        {
          "output_type": "execute_result",
          "data": {
            "text/plain": [
              "(pandas.core.series.Series, pandas.core.series.Series)"
            ]
          },
          "metadata": {},
          "execution_count": 31
        }
      ]
    },
    {
      "cell_type": "code",
      "metadata": {
        "id": "ISu-SIXbbb23"
      },
      "source": [
        "import nltk"
      ],
      "execution_count": 32,
      "outputs": []
    },
    {
      "cell_type": "code",
      "metadata": {
        "id": "iG7WWnW9-dhz",
        "colab": {
          "base_uri": "https://localhost:8080/"
        },
        "outputId": "c1ae8527-e912-4ad6-b379-f4884810740f"
      },
      "source": [
        "nltk.download('stopwords')"
      ],
      "execution_count": 33,
      "outputs": [
        {
          "output_type": "stream",
          "text": [
            "[nltk_data] Downloading package stopwords to /root/nltk_data...\n",
            "[nltk_data]   Unzipping corpora/stopwords.zip.\n"
          ],
          "name": "stdout"
        },
        {
          "output_type": "execute_result",
          "data": {
            "text/plain": [
              "True"
            ]
          },
          "metadata": {},
          "execution_count": 33
        }
      ]
    },
    {
      "cell_type": "code",
      "metadata": {
        "id": "BDL43daAgtPE"
      },
      "source": [
        "from nltk.corpus import stopwords"
      ],
      "execution_count": 34,
      "outputs": []
    },
    {
      "cell_type": "code",
      "metadata": {
        "id": "_eqUR5Lsg1Wj"
      },
      "source": [
        "stop_words = stopwords.words('english')"
      ],
      "execution_count": 35,
      "outputs": []
    },
    {
      "cell_type": "code",
      "metadata": {
        "id": "Ys8Z58hfJvpO",
        "colab": {
          "base_uri": "https://localhost:8080/"
        },
        "outputId": "10242ed6-45ce-4802-b7b3-c7e2c488c2f5"
      },
      "source": [
        "stop_words[:20]"
      ],
      "execution_count": 36,
      "outputs": [
        {
          "output_type": "execute_result",
          "data": {
            "text/plain": [
              "['i',\n",
              " 'me',\n",
              " 'my',\n",
              " 'myself',\n",
              " 'we',\n",
              " 'our',\n",
              " 'ours',\n",
              " 'ourselves',\n",
              " 'you',\n",
              " \"you're\",\n",
              " \"you've\",\n",
              " \"you'll\",\n",
              " \"you'd\",\n",
              " 'your',\n",
              " 'yours',\n",
              " 'yourself',\n",
              " 'yourselves',\n",
              " 'he',\n",
              " 'him',\n",
              " 'his']"
            ]
          },
          "metadata": {},
          "execution_count": 36
        }
      ]
    },
    {
      "cell_type": "code",
      "metadata": {
        "id": "Mx6Rz58k-nF1",
        "colab": {
          "base_uri": "https://localhost:8080/"
        },
        "outputId": "b139b621-2077-4178-9ada-6f509929ad98"
      },
      "source": [
        "X.head()"
      ],
      "execution_count": 37,
      "outputs": [
        {
          "output_type": "execute_result",
          "data": {
            "text/plain": [
              "0                                                                                                      what said\n",
              "1                                                        plus you have added commercials to the experience tacky\n",
              "2                                                          i did not today must mean i need to take another trip\n",
              "3    it is really aggressive to blast obnoxious entertainment in your guests faces amp they have little recourse\n",
              "4                                                                      and it is a really big bad thing about it\n",
              "Name: text, dtype: object"
            ]
          },
          "metadata": {},
          "execution_count": 37
        }
      ]
    },
    {
      "cell_type": "code",
      "metadata": {
        "id": "KoFJl9U3Lnv1",
        "colab": {
          "base_uri": "https://localhost:8080/"
        },
        "outputId": "f89dcf2f-753a-4fe2-f527-93989772576c"
      },
      "source": [
        "nltk.download('punkt')"
      ],
      "execution_count": 38,
      "outputs": [
        {
          "output_type": "stream",
          "text": [
            "[nltk_data] Downloading package punkt to /root/nltk_data...\n",
            "[nltk_data]   Unzipping tokenizers/punkt.zip.\n"
          ],
          "name": "stdout"
        },
        {
          "output_type": "execute_result",
          "data": {
            "text/plain": [
              "True"
            ]
          },
          "metadata": {},
          "execution_count": 38
        }
      ]
    },
    {
      "cell_type": "code",
      "metadata": {
        "id": "aWAaakAqGCZL"
      },
      "source": [
        "from nltk.tokenize import word_tokenize"
      ],
      "execution_count": 39,
      "outputs": []
    },
    {
      "cell_type": "code",
      "metadata": {
        "id": "hAfDcT93LZhn"
      },
      "source": [
        "X = X.apply(lambda x: word_tokenize(x))"
      ],
      "execution_count": 40,
      "outputs": []
    },
    {
      "cell_type": "code",
      "metadata": {
        "colab": {
          "base_uri": "https://localhost:8080/"
        },
        "id": "dIgijpilLjD_",
        "outputId": "7ff6d143-2b4d-4b90-e480-eb21607d58b8"
      },
      "source": [
        "X.head()"
      ],
      "execution_count": 41,
      "outputs": [
        {
          "output_type": "execute_result",
          "data": {
            "text/plain": [
              "0                                                                                                               [what, said]\n",
              "1                                                          [plus, you, have, added, commercials, to, the, experience, tacky]\n",
              "2                                                         [i, did, not, today, must, mean, i, need, to, take, another, trip]\n",
              "3    [it, is, really, aggressive, to, blast, obnoxious, entertainment, in, your, guests, faces, amp, they, have, little, ...\n",
              "4                                                                       [and, it, is, a, really, big, bad, thing, about, it]\n",
              "Name: text, dtype: object"
            ]
          },
          "metadata": {},
          "execution_count": 41
        }
      ]
    },
    {
      "cell_type": "code",
      "metadata": {
        "id": "V9FLvkUYLxT8"
      },
      "source": [
        "X = X.apply(lambda x: [word for word in x if word not in stop_words])"
      ],
      "execution_count": 42,
      "outputs": []
    },
    {
      "cell_type": "code",
      "metadata": {
        "colab": {
          "base_uri": "https://localhost:8080/"
        },
        "id": "vfvVwqhuMAiU",
        "outputId": "22dfba55-6fda-4e88-e111-53cc8273fcac"
      },
      "source": [
        "X.head()"
      ],
      "execution_count": 43,
      "outputs": [
        {
          "output_type": "execute_result",
          "data": {
            "text/plain": [
              "0                                                                                         [said]\n",
              "1                                                  [plus, added, commercials, experience, tacky]\n",
              "2                                                 [today, must, mean, need, take, another, trip]\n",
              "3    [really, aggressive, blast, obnoxious, entertainment, guests, faces, amp, little, recourse]\n",
              "4                                                                      [really, big, bad, thing]\n",
              "Name: text, dtype: object"
            ]
          },
          "metadata": {},
          "execution_count": 43
        }
      ]
    },
    {
      "cell_type": "code",
      "metadata": {
        "id": "K1JrM6nUMgfP"
      },
      "source": [
        "Y = Y.map({\"negative\":0,\"neutral\":1,\"positive\":2})"
      ],
      "execution_count": 44,
      "outputs": []
    },
    {
      "cell_type": "code",
      "metadata": {
        "colab": {
          "base_uri": "https://localhost:8080/"
        },
        "id": "xTUXCqbSM9vU",
        "outputId": "74990b9e-e9e8-47f6-c252-021a2b333f57"
      },
      "source": [
        "Y.value_counts()"
      ],
      "execution_count": 45,
      "outputs": [
        {
          "output_type": "execute_result",
          "data": {
            "text/plain": [
              "0    9178\n",
              "1    3099\n",
              "2    2363\n",
              "Name: airline_sentiment, dtype: int64"
            ]
          },
          "metadata": {},
          "execution_count": 45
        }
      ]
    },
    {
      "cell_type": "code",
      "metadata": {
        "colab": {
          "base_uri": "https://localhost:8080/"
        },
        "id": "twDn2p_jPLq5",
        "outputId": "422b2bde-331a-430f-b748-60f124339181"
      },
      "source": [
        "type(X)"
      ],
      "execution_count": 46,
      "outputs": [
        {
          "output_type": "execute_result",
          "data": {
            "text/plain": [
              "pandas.core.series.Series"
            ]
          },
          "metadata": {},
          "execution_count": 46
        }
      ]
    },
    {
      "cell_type": "code",
      "metadata": {
        "colab": {
          "base_uri": "https://localhost:8080/"
        },
        "id": "isKWT68lPNsq",
        "outputId": "62489518-5372-4128-a7a0-b7e6ef6d211d"
      },
      "source": [
        "\n",
        "X[:2]"
      ],
      "execution_count": 47,
      "outputs": [
        {
          "output_type": "execute_result",
          "data": {
            "text/plain": [
              "0                                           [said]\n",
              "1    [plus, added, commercials, experience, tacky]\n",
              "Name: text, dtype: object"
            ]
          },
          "metadata": {},
          "execution_count": 47
        }
      ]
    },
    {
      "cell_type": "code",
      "metadata": {
        "colab": {
          "base_uri": "https://localhost:8080/"
        },
        "id": "KXWPoF4qdlDp",
        "outputId": "5b281336-924e-4e68-af7d-9c2962c60c1d"
      },
      "source": [
        "nltk.download('wordnet')"
      ],
      "execution_count": 48,
      "outputs": [
        {
          "output_type": "stream",
          "text": [
            "[nltk_data] Downloading package wordnet to /root/nltk_data...\n",
            "[nltk_data]   Unzipping corpora/wordnet.zip.\n"
          ],
          "name": "stdout"
        },
        {
          "output_type": "execute_result",
          "data": {
            "text/plain": [
              "True"
            ]
          },
          "metadata": {},
          "execution_count": 48
        }
      ]
    },
    {
      "cell_type": "code",
      "metadata": {
        "id": "gaeJx0AQa4uK"
      },
      "source": [
        "from nltk.stem import WordNetLemmatizer\n",
        "lemmetizer = WordNetLemmatizer()"
      ],
      "execution_count": 49,
      "outputs": []
    },
    {
      "cell_type": "code",
      "metadata": {
        "id": "PL8HEOaQa-1W"
      },
      "source": [
        "X = X.apply(lambda x: [lemmetizer.lemmatize(word) for word in x])"
      ],
      "execution_count": 50,
      "outputs": []
    },
    {
      "cell_type": "code",
      "metadata": {
        "id": "sSp_J6TtRcrb"
      },
      "source": [
        "X = X.apply(lambda x: ' '.join(x))"
      ],
      "execution_count": 51,
      "outputs": []
    },
    {
      "cell_type": "code",
      "metadata": {
        "colab": {
          "base_uri": "https://localhost:8080/"
        },
        "id": "EpZyAtE_Rwej",
        "outputId": "bd10c15d-1329-46a6-9629-39f0d27c479f"
      },
      "source": [
        "X[:5]"
      ],
      "execution_count": 52,
      "outputs": [
        {
          "output_type": "execute_result",
          "data": {
            "text/plain": [
              "0                                                                              said\n",
              "1                                            plus added commercial experience tacky\n",
              "2                                            today must mean need take another trip\n",
              "3    really aggressive blast obnoxious entertainment guest face amp little recourse\n",
              "4                                                              really big bad thing\n",
              "Name: text, dtype: object"
            ]
          },
          "metadata": {},
          "execution_count": 52
        }
      ]
    },
    {
      "cell_type": "code",
      "metadata": {
        "id": "XXKnSE44euE6"
      },
      "source": [
        "x = X"
      ],
      "execution_count": 53,
      "outputs": []
    },
    {
      "cell_type": "code",
      "metadata": {
        "id": "qwKurySVmJwz"
      },
      "source": [
        "x_2 = X"
      ],
      "execution_count": 54,
      "outputs": []
    },
    {
      "cell_type": "code",
      "metadata": {
        "id": "77cWSHqZM_j-"
      },
      "source": [
        "## we need to convert all our data into numbers before we can give to any of our model.\n",
        "## we will be using tfidf vectorizer for converting our text data into numbers.\n",
        "\n",
        "from sklearn.feature_extraction.text import TfidfVectorizer\n",
        "\n",
        "tfidf = TfidfVectorizer()\n",
        "X = tfidf.fit_transform(X).toarray()"
      ],
      "execution_count": 55,
      "outputs": []
    },
    {
      "cell_type": "code",
      "metadata": {
        "colab": {
          "base_uri": "https://localhost:8080/"
        },
        "id": "huUgh_mcIgqW",
        "outputId": "2ebd79ff-9209-4493-80b7-1868d7b47a25"
      },
      "source": [
        "X[:4]"
      ],
      "execution_count": 56,
      "outputs": [
        {
          "output_type": "execute_result",
          "data": {
            "text/plain": [
              "array([[0., 0., 0., ..., 0., 0., 0.],\n",
              "       [0., 0., 0., ..., 0., 0., 0.],\n",
              "       [0., 0., 0., ..., 0., 0., 0.],\n",
              "       [0., 0., 0., ..., 0., 0., 0.]])"
            ]
          },
          "metadata": {},
          "execution_count": 56
        }
      ]
    },
    {
      "cell_type": "code",
      "metadata": {
        "colab": {
          "base_uri": "https://localhost:8080/"
        },
        "id": "0sdMC0HoIsaj",
        "outputId": "f3b27e34-3732-4177-c823-1ede880455f9"
      },
      "source": [
        "X.shape"
      ],
      "execution_count": 57,
      "outputs": [
        {
          "output_type": "execute_result",
          "data": {
            "text/plain": [
              "(14640, 8789)"
            ]
          },
          "metadata": {},
          "execution_count": 57
        }
      ]
    },
    {
      "cell_type": "code",
      "metadata": {
        "id": "kZCfUpzMNFiR"
      },
      "source": [
        "## preparing training and test dataset:\n",
        "\n",
        "from sklearn.model_selection import train_test_split\n",
        "x_train,x_test,y_train,y_test = train_test_split(X,Y,test_size = 0.2,random_state = 0, stratify=Y, shuffle=True)"
      ],
      "execution_count": 58,
      "outputs": []
    },
    {
      "cell_type": "code",
      "metadata": {
        "id": "rdxjXoQ5Sn-9"
      },
      "source": [
        "## training our data with svm model:\n",
        "\n",
        "from sklearn.svm import LinearSVC\n",
        "from sklearn.metrics import accuracy_score,classification_report,confusion_matrix"
      ],
      "execution_count": 59,
      "outputs": []
    },
    {
      "cell_type": "code",
      "metadata": {
        "colab": {
          "base_uri": "https://localhost:8080/"
        },
        "id": "LuobGrNYSrS8",
        "outputId": "27c6c850-91b4-4464-de6f-00912dafc5df"
      },
      "source": [
        "svm = LinearSVC(class_weight='balanced')\n",
        "svm.fit(x_train,y_train)"
      ],
      "execution_count": 60,
      "outputs": [
        {
          "output_type": "execute_result",
          "data": {
            "text/plain": [
              "LinearSVC(C=1.0, class_weight='balanced', dual=True, fit_intercept=True,\n",
              "          intercept_scaling=1, loss='squared_hinge', max_iter=1000,\n",
              "          multi_class='ovr', penalty='l2', random_state=None, tol=0.0001,\n",
              "          verbose=0)"
            ]
          },
          "metadata": {},
          "execution_count": 60
        }
      ]
    },
    {
      "cell_type": "code",
      "metadata": {
        "id": "4E-JZ4v6Su1q"
      },
      "source": [
        "y_pred = svm.predict(x_test)"
      ],
      "execution_count": 61,
      "outputs": []
    },
    {
      "cell_type": "code",
      "metadata": {
        "colab": {
          "base_uri": "https://localhost:8080/"
        },
        "id": "BvR2a_wNSyKU",
        "outputId": "c350ec7a-3d2f-48ab-cc75-9e8c696ea5f1"
      },
      "source": [
        "print(classification_report(y_pred,y_test))"
      ],
      "execution_count": 62,
      "outputs": [
        {
          "output_type": "stream",
          "text": [
            "              precision    recall  f1-score   support\n",
            "\n",
            "           0       0.84      0.86      0.85      1778\n",
            "           1       0.61      0.55      0.58       689\n",
            "           2       0.68      0.69      0.69       461\n",
            "\n",
            "    accuracy                           0.76      2928\n",
            "   macro avg       0.71      0.70      0.70      2928\n",
            "weighted avg       0.76      0.76      0.76      2928\n",
            "\n"
          ],
          "name": "stdout"
        }
      ]
    },
    {
      "cell_type": "code",
      "metadata": {
        "id": "AQP-TaBzS0wL"
      },
      "source": [
        "from sklearn.linear_model import LogisticRegression"
      ],
      "execution_count": 63,
      "outputs": []
    },
    {
      "cell_type": "code",
      "metadata": {
        "colab": {
          "base_uri": "https://localhost:8080/"
        },
        "id": "VTMgTx5iYM4d",
        "outputId": "0164d46b-5945-4cee-c8c3-f1351416b000"
      },
      "source": [
        "Y.value_counts()"
      ],
      "execution_count": 64,
      "outputs": [
        {
          "output_type": "execute_result",
          "data": {
            "text/plain": [
              "0    9178\n",
              "1    3099\n",
              "2    2363\n",
              "Name: airline_sentiment, dtype: int64"
            ]
          },
          "metadata": {},
          "execution_count": 64
        }
      ]
    },
    {
      "cell_type": "code",
      "metadata": {
        "id": "kMvDnGTjWTRE"
      },
      "source": [
        "lr = LogisticRegression(class_weight='balanced')"
      ],
      "execution_count": 65,
      "outputs": []
    },
    {
      "cell_type": "code",
      "metadata": {
        "colab": {
          "base_uri": "https://localhost:8080/"
        },
        "id": "SJbPb9nrWVPK",
        "outputId": "d4e71b4c-5a22-4d41-b07d-44ebfbdef7ca"
      },
      "source": [
        "lr.fit(x_train,y_train)"
      ],
      "execution_count": 66,
      "outputs": [
        {
          "output_type": "stream",
          "text": [
            "/usr/local/lib/python3.7/dist-packages/sklearn/linear_model/_logistic.py:940: ConvergenceWarning: lbfgs failed to converge (status=1):\n",
            "STOP: TOTAL NO. of ITERATIONS REACHED LIMIT.\n",
            "\n",
            "Increase the number of iterations (max_iter) or scale the data as shown in:\n",
            "    https://scikit-learn.org/stable/modules/preprocessing.html\n",
            "Please also refer to the documentation for alternative solver options:\n",
            "    https://scikit-learn.org/stable/modules/linear_model.html#logistic-regression\n",
            "  extra_warning_msg=_LOGISTIC_SOLVER_CONVERGENCE_MSG)\n"
          ],
          "name": "stderr"
        },
        {
          "output_type": "execute_result",
          "data": {
            "text/plain": [
              "LogisticRegression(C=1.0, class_weight='balanced', dual=False,\n",
              "                   fit_intercept=True, intercept_scaling=1, l1_ratio=None,\n",
              "                   max_iter=100, multi_class='auto', n_jobs=None, penalty='l2',\n",
              "                   random_state=None, solver='lbfgs', tol=0.0001, verbose=0,\n",
              "                   warm_start=False)"
            ]
          },
          "metadata": {},
          "execution_count": 66
        }
      ]
    },
    {
      "cell_type": "code",
      "metadata": {
        "id": "p8bXkSXkWasE"
      },
      "source": [
        "y_pred = lr.predict(x_test)"
      ],
      "execution_count": 67,
      "outputs": []
    },
    {
      "cell_type": "code",
      "metadata": {
        "colab": {
          "base_uri": "https://localhost:8080/"
        },
        "id": "RCIhg2J5WyAq",
        "outputId": "5586131c-bb1e-4d6a-e540-b4fce364e13d"
      },
      "source": [
        "print(classification_report(y_pred,y_test))"
      ],
      "execution_count": 68,
      "outputs": [
        {
          "output_type": "stream",
          "text": [
            "              precision    recall  f1-score   support\n",
            "\n",
            "           0       0.77      0.89      0.83      1582\n",
            "           1       0.70      0.51      0.59       845\n",
            "           2       0.71      0.67      0.69       501\n",
            "\n",
            "    accuracy                           0.75      2928\n",
            "   macro avg       0.73      0.69      0.70      2928\n",
            "weighted avg       0.74      0.75      0.74      2928\n",
            "\n"
          ],
          "name": "stdout"
        }
      ]
    },
    {
      "cell_type": "code",
      "metadata": {
        "colab": {
          "base_uri": "https://localhost:8080/"
        },
        "id": "Xk_dUpVdgV2J",
        "outputId": "8539f47f-8564-41ee-eadd-0dece843e1f3"
      },
      "source": [
        "x.head()"
      ],
      "execution_count": 69,
      "outputs": [
        {
          "output_type": "execute_result",
          "data": {
            "text/plain": [
              "0                                                                              said\n",
              "1                                            plus added commercial experience tacky\n",
              "2                                            today must mean need take another trip\n",
              "3    really aggressive blast obnoxious entertainment guest face amp little recourse\n",
              "4                                                              really big bad thing\n",
              "Name: text, dtype: object"
            ]
          },
          "metadata": {},
          "execution_count": 69
        }
      ]
    },
    {
      "cell_type": "code",
      "metadata": {
        "id": "kfdyfcMzG3C0"
      },
      "source": [
        "from tensorflow.keras.preprocessing.text import Tokenizer"
      ],
      "execution_count": 70,
      "outputs": []
    },
    {
      "cell_type": "code",
      "metadata": {
        "id": "lFUwsXDxIS6V"
      },
      "source": [
        "tokenizer = Tokenizer()"
      ],
      "execution_count": 71,
      "outputs": []
    },
    {
      "cell_type": "code",
      "metadata": {
        "colab": {
          "base_uri": "https://localhost:8080/"
        },
        "id": "0SxKcScbJN5z",
        "outputId": "2cb1566a-44e6-44d6-e9d5-d1a22f6906c1"
      },
      "source": [
        "x[:2]"
      ],
      "execution_count": 72,
      "outputs": [
        {
          "output_type": "execute_result",
          "data": {
            "text/plain": [
              "0                                      said\n",
              "1    plus added commercial experience tacky\n",
              "Name: text, dtype: object"
            ]
          },
          "metadata": {},
          "execution_count": 72
        }
      ]
    },
    {
      "cell_type": "code",
      "metadata": {
        "id": "gMvsiLUhIX5-"
      },
      "source": [
        "tokenizer.fit_on_texts(x)"
      ],
      "execution_count": 73,
      "outputs": []
    },
    {
      "cell_type": "code",
      "metadata": {
        "colab": {
          "base_uri": "https://localhost:8080/"
        },
        "id": "vKG7A1B2Ieik",
        "outputId": "4f557491-2780-45cb-d1d7-ab6e5f3ae3d3"
      },
      "source": [
        "x[:4]"
      ],
      "execution_count": 74,
      "outputs": [
        {
          "output_type": "execute_result",
          "data": {
            "text/plain": [
              "0                                                                              said\n",
              "1                                            plus added commercial experience tacky\n",
              "2                                            today must mean need take another trip\n",
              "3    really aggressive blast obnoxious entertainment guest face amp little recourse\n",
              "Name: text, dtype: object"
            ]
          },
          "metadata": {},
          "execution_count": 74
        }
      ]
    },
    {
      "cell_type": "code",
      "metadata": {
        "colab": {
          "base_uri": "https://localhost:8080/"
        },
        "id": "a0xfaT0_IgZm",
        "outputId": "8b36373a-e1ab-4268-ef7e-cf0c2b1399c7"
      },
      "source": [
        "vocab_size = len(tokenizer.word_index) + 1\n",
        "vocab_size"
      ],
      "execution_count": 75,
      "outputs": [
        {
          "output_type": "execute_result",
          "data": {
            "text/plain": [
              "8810"
            ]
          },
          "metadata": {},
          "execution_count": 75
        }
      ]
    },
    {
      "cell_type": "code",
      "metadata": {
        "id": "sLOrprqOJaeE"
      },
      "source": [
        "## vocab size gives counts all of words present in the text data:"
      ],
      "execution_count": 76,
      "outputs": []
    },
    {
      "cell_type": "code",
      "metadata": {
        "id": "SxKc9lCVJJcC"
      },
      "source": [
        "encoded_text = tokenizer.texts_to_sequences(x)"
      ],
      "execution_count": 77,
      "outputs": []
    },
    {
      "cell_type": "code",
      "metadata": {
        "colab": {
          "base_uri": "https://localhost:8080/"
        },
        "id": "cqX81aUyJopY",
        "outputId": "392bfbc1-b303-4f7f-8cbe-e92af2c74566"
      },
      "source": [
        "encoded_text[:2]"
      ],
      "execution_count": 78,
      "outputs": [
        {
          "output_type": "execute_result",
          "data": {
            "text/plain": [
              "[[123], [398, 925, 1051, 104, 4891]]"
            ]
          },
          "metadata": {},
          "execution_count": 78
        }
      ]
    },
    {
      "cell_type": "code",
      "metadata": {
        "colab": {
          "base_uri": "https://localhost:8080/"
        },
        "id": "wg4VzZRTJr02",
        "outputId": "1bd47266-b848-40e6-97bf-bc257350c91d"
      },
      "source": [
        "list_lengths = []\n",
        "for item in encoded_text:\n",
        "  length = len(item)\n",
        "  list_lengths.append(length)\n",
        "max(list_lengths)\n"
      ],
      "execution_count": 79,
      "outputs": [
        {
          "output_type": "execute_result",
          "data": {
            "text/plain": [
              "22"
            ]
          },
          "metadata": {},
          "execution_count": 79
        }
      ]
    },
    {
      "cell_type": "code",
      "metadata": {
        "id": "0go9XCb9KYb_"
      },
      "source": [
        "max_length = 25"
      ],
      "execution_count": 80,
      "outputs": []
    },
    {
      "cell_type": "code",
      "metadata": {
        "id": "N37gTWtnKjqT"
      },
      "source": [
        "from tensorflow.keras.preprocessing.sequence import pad_sequences"
      ],
      "execution_count": 81,
      "outputs": []
    },
    {
      "cell_type": "code",
      "metadata": {
        "id": "c5PTCDA1Ku7Q"
      },
      "source": [
        "x = pad_sequences(sequences=encoded_text, maxlen=max_length, padding='post')"
      ],
      "execution_count": 82,
      "outputs": []
    },
    {
      "cell_type": "code",
      "metadata": {
        "id": "RrGCI60GK_82"
      },
      "source": [
        "x_train,x_test,y_train,y_test = train_test_split(x,Y,random_state = 0,test_size = 0.2, stratify=Y)"
      ],
      "execution_count": 83,
      "outputs": []
    },
    {
      "cell_type": "code",
      "metadata": {
        "id": "1Q_OukgYLHQe"
      },
      "source": [
        "from tensorflow.keras.models import Sequential\n",
        "from tensorflow.keras.layers import Embedding,Flatten,Dense,GlobalAveragePooling1D,Dropout,Conv1D,MaxPool1D,GlobalMaxPool1D"
      ],
      "execution_count": 84,
      "outputs": []
    },
    {
      "cell_type": "code",
      "metadata": {
        "id": "v78815I5Lt6V"
      },
      "source": [
        "vec_size = 128\n",
        "\n",
        "model = Sequential()\n",
        "\n",
        "model.add(Embedding(input_dim=vocab_size, output_dim=vec_size, input_length=max_length))\n",
        "model.add(Conv1D(64,2,activation='relu'))\n",
        "model.add(Dropout(0.7))\n",
        "\n",
        "model.add(Conv1D(32,2,activation='relu'))\n",
        "model.add(MaxPool1D(2))\n",
        "model.add(Dropout(0.6))\n",
        "\n",
        "model.add(Dense(8,activation='relu'))\n",
        "\n",
        "model.add(GlobalAveragePooling1D())\n",
        "\n",
        "model.add(Dense(3,activation='softmax'))\n"
      ],
      "execution_count": 85,
      "outputs": []
    },
    {
      "cell_type": "code",
      "metadata": {
        "colab": {
          "base_uri": "https://localhost:8080/"
        },
        "id": "Twx1nTJbP025",
        "outputId": "6321d472-c66f-43e9-e317-f387c12901d3"
      },
      "source": [
        "model.summary()"
      ],
      "execution_count": 86,
      "outputs": [
        {
          "output_type": "stream",
          "text": [
            "Model: \"sequential\"\n",
            "_________________________________________________________________\n",
            "Layer (type)                 Output Shape              Param #   \n",
            "=================================================================\n",
            "embedding (Embedding)        (None, 25, 128)           1127680   \n",
            "_________________________________________________________________\n",
            "conv1d (Conv1D)              (None, 24, 64)            16448     \n",
            "_________________________________________________________________\n",
            "dropout (Dropout)            (None, 24, 64)            0         \n",
            "_________________________________________________________________\n",
            "conv1d_1 (Conv1D)            (None, 23, 32)            4128      \n",
            "_________________________________________________________________\n",
            "max_pooling1d (MaxPooling1D) (None, 11, 32)            0         \n",
            "_________________________________________________________________\n",
            "dropout_1 (Dropout)          (None, 11, 32)            0         \n",
            "_________________________________________________________________\n",
            "dense (Dense)                (None, 11, 8)             264       \n",
            "_________________________________________________________________\n",
            "global_average_pooling1d (Gl (None, 8)                 0         \n",
            "_________________________________________________________________\n",
            "dense_1 (Dense)              (None, 3)                 27        \n",
            "=================================================================\n",
            "Total params: 1,148,547\n",
            "Trainable params: 1,148,547\n",
            "Non-trainable params: 0\n",
            "_________________________________________________________________\n"
          ],
          "name": "stdout"
        }
      ]
    },
    {
      "cell_type": "code",
      "metadata": {
        "id": "sWjWEQJ6P7Zb"
      },
      "source": [
        "from tensorflow.keras.optimizers import Adam"
      ],
      "execution_count": 87,
      "outputs": []
    },
    {
      "cell_type": "code",
      "metadata": {
        "id": "jSa8iC4_hmzw"
      },
      "source": [
        "from sklearn.utils import class_weight"
      ],
      "execution_count": 88,
      "outputs": []
    },
    {
      "cell_type": "code",
      "metadata": {
        "id": "XYX9-O4shr3Q"
      },
      "source": [
        "class_weights = class_weight.compute_class_weight('balanced', np.unique(y_train), y_train)"
      ],
      "execution_count": 89,
      "outputs": []
    },
    {
      "cell_type": "code",
      "metadata": {
        "colab": {
          "base_uri": "https://localhost:8080/"
        },
        "id": "YPcS0DCgifxC",
        "outputId": "fa2a3b4b-776a-4fa6-90ae-da6b9841c4a5"
      },
      "source": [
        "class_weights"
      ],
      "execution_count": 90,
      "outputs": [
        {
          "output_type": "execute_result",
          "data": {
            "text/plain": [
              "array([0.53173522, 1.57482856, 2.06451613])"
            ]
          },
          "metadata": {},
          "execution_count": 90
        }
      ]
    },
    {
      "cell_type": "code",
      "metadata": {
        "id": "QUAJsLoPk_Ig"
      },
      "source": [
        "class_weightss = {0:0.53420909, 1:1.57102616, 2: 2.03439291}"
      ],
      "execution_count": 91,
      "outputs": []
    },
    {
      "cell_type": "code",
      "metadata": {
        "id": "67Vj23G01QMk"
      },
      "source": [
        "from tensorflow.keras.utils import to_categorical"
      ],
      "execution_count": 92,
      "outputs": []
    },
    {
      "cell_type": "code",
      "metadata": {
        "id": "8EByCyBM1WKs"
      },
      "source": [
        "y_train = to_categorical(y_train,3)\n",
        "y_test = to_categorical(y_test,3)"
      ],
      "execution_count": 93,
      "outputs": []
    },
    {
      "cell_type": "code",
      "metadata": {
        "colab": {
          "base_uri": "https://localhost:8080/"
        },
        "id": "2pWY4eIxQHxc",
        "outputId": "b4f74ec8-5580-4096-c2fa-2c59e3e60b3a"
      },
      "source": [
        "model.compile(optimizer=Adam(learning_rate=0.001), loss = 'categorical_crossentropy', metrics = ['accuracy'])\n",
        "model.fit(x_train, y_train, epochs = 5, validation_data=(x_test, y_test), class_weight=class_weightss)"
      ],
      "execution_count": 94,
      "outputs": [
        {
          "output_type": "stream",
          "text": [
            "Epoch 1/5\n",
            "366/366 [==============================] - 8s 18ms/step - loss: 1.0356 - accuracy: 0.2722 - val_loss: 0.9775 - val_accuracy: 0.5188\n",
            "Epoch 2/5\n",
            "366/366 [==============================] - 6s 18ms/step - loss: 0.7757 - accuracy: 0.6638 - val_loss: 0.6792 - val_accuracy: 0.7141\n",
            "Epoch 3/5\n",
            "366/366 [==============================] - 6s 17ms/step - loss: 0.5755 - accuracy: 0.7648 - val_loss: 0.6012 - val_accuracy: 0.7596\n",
            "Epoch 4/5\n",
            "366/366 [==============================] - 6s 18ms/step - loss: 0.4793 - accuracy: 0.8105 - val_loss: 0.6720 - val_accuracy: 0.7182\n",
            "Epoch 5/5\n",
            "366/366 [==============================] - 6s 17ms/step - loss: 0.4199 - accuracy: 0.8301 - val_loss: 0.7192 - val_accuracy: 0.7210\n"
          ],
          "name": "stdout"
        },
        {
          "output_type": "execute_result",
          "data": {
            "text/plain": [
              "<keras.callbacks.History at 0x7f0ca9740510>"
            ]
          },
          "metadata": {},
          "execution_count": 94
        }
      ]
    },
    {
      "cell_type": "code",
      "metadata": {
        "id": "g58yeFnMQMi9"
      },
      "source": [
        "from tensorflow.keras.layers import LSTM"
      ],
      "execution_count": 95,
      "outputs": []
    },
    {
      "cell_type": "code",
      "metadata": {
        "id": "ywcY6QpumM6w"
      },
      "source": [
        "vec_size = 128\n",
        "model_2 = Sequential()\n",
        "model_2.add(Embedding(vocab_size,vec_size,input_length=max_length))\n",
        "model_2.add(LSTM(units=64))\n",
        "model_2.add(Dense(3,activation=\"softmax\"))"
      ],
      "execution_count": 96,
      "outputs": []
    },
    {
      "cell_type": "code",
      "metadata": {
        "id": "Bd1J-ICA4mcd",
        "colab": {
          "base_uri": "https://localhost:8080/"
        },
        "outputId": "2a2f8e3e-c77e-4237-a56e-824c2457afee"
      },
      "source": [
        "model_2.summary()"
      ],
      "execution_count": 97,
      "outputs": [
        {
          "output_type": "stream",
          "text": [
            "Model: \"sequential_1\"\n",
            "_________________________________________________________________\n",
            "Layer (type)                 Output Shape              Param #   \n",
            "=================================================================\n",
            "embedding_1 (Embedding)      (None, 25, 128)           1127680   \n",
            "_________________________________________________________________\n",
            "lstm (LSTM)                  (None, 64)                49408     \n",
            "_________________________________________________________________\n",
            "dense_2 (Dense)              (None, 3)                 195       \n",
            "=================================================================\n",
            "Total params: 1,177,283\n",
            "Trainable params: 1,177,283\n",
            "Non-trainable params: 0\n",
            "_________________________________________________________________\n"
          ],
          "name": "stdout"
        }
      ]
    },
    {
      "cell_type": "code",
      "metadata": {
        "id": "Ogwp19CUnQkA",
        "colab": {
          "base_uri": "https://localhost:8080/"
        },
        "outputId": "9179eec5-b0df-4501-f3d6-c3e629839e70"
      },
      "source": [
        "model_2.compile(optimizer=Adam(learning_rate=0.001), loss = 'categorical_crossentropy', metrics = ['accuracy'])\n",
        "model_2.fit(x_train, y_train, epochs = 5, validation_data=(x_test, y_test), shuffle = True, class_weight=class_weightss)"
      ],
      "execution_count": 98,
      "outputs": [
        {
          "output_type": "stream",
          "text": [
            "Epoch 1/5\n",
            "366/366 [==============================] - 12s 30ms/step - loss: 0.8526 - accuracy: 0.6148 - val_loss: 0.6398 - val_accuracy: 0.7370\n",
            "Epoch 2/5\n",
            "366/366 [==============================] - 11s 29ms/step - loss: 0.5674 - accuracy: 0.7778 - val_loss: 0.5984 - val_accuracy: 0.7596\n",
            "Epoch 3/5\n",
            "366/366 [==============================] - 11s 29ms/step - loss: 0.4315 - accuracy: 0.8433 - val_loss: 0.6304 - val_accuracy: 0.7531\n",
            "Epoch 4/5\n",
            "366/366 [==============================] - 11s 29ms/step - loss: 0.3453 - accuracy: 0.8767 - val_loss: 0.6730 - val_accuracy: 0.7561\n",
            "Epoch 5/5\n",
            "366/366 [==============================] - 11s 29ms/step - loss: 0.2876 - accuracy: 0.8966 - val_loss: 0.7916 - val_accuracy: 0.7384\n"
          ],
          "name": "stdout"
        },
        {
          "output_type": "execute_result",
          "data": {
            "text/plain": [
              "<keras.callbacks.History at 0x7f0ca95ddd10>"
            ]
          },
          "metadata": {},
          "execution_count": 98
        }
      ]
    }
  ]
}